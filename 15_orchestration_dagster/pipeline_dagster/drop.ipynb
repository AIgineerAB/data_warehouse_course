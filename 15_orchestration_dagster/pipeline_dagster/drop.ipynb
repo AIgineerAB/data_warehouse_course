{
 "cells": [
  {
   "cell_type": "code",
   "execution_count": 2,
   "metadata": {},
   "outputs": [
    {
     "name": "stdout",
     "output_type": "stream",
     "text": [
      "Executing: DROP TABLE DATA_FIELD_JOB_ADS2\n",
      "Executing: DROP TABLE DATA_FIELD_JOB_ADS2__APPLICATION_CONTACTS\n",
      "Executing: DROP TABLE DATA_FIELD_JOB_ADS2__DRIVING_LICENSE\n",
      "Executing: DROP TABLE DATA_FIELD_JOB_ADS2__MUST_HAVE__EDUCATION\n",
      "Executing: DROP TABLE DATA_FIELD_JOB_ADS2__MUST_HAVE__EDUCATION_LEVEL\n",
      "Executing: DROP TABLE DATA_FIELD_JOB_ADS2__MUST_HAVE__LANGUAGES\n",
      "Executing: DROP TABLE DATA_FIELD_JOB_ADS2__MUST_HAVE__WORK_EXPERIENCES\n",
      "Executing: DROP TABLE DATA_FIELD_JOB_ADS2__NICE_TO_HAVE__EDUCATION\n",
      "Executing: DROP TABLE DATA_FIELD_JOB_ADS2__NICE_TO_HAVE__EDUCATION_LEVEL\n",
      "Executing: DROP TABLE DATA_FIELD_JOB_ADS2__NICE_TO_HAVE__LANGUAGES\n",
      "Executing: DROP TABLE DATA_FIELD_JOB_ADS2__NICE_TO_HAVE__SKILLS\n",
      "Executing: DROP TABLE DATA_FIELD_JOB_ADS2__WORKPLACE_ADDRESS__COORDINATES\n",
      "Executing: DROP TABLE DATA_FIELD_JOB_ADS2__NICE_TO_HAVE__WORK_EXPERIENCES\n",
      "All matching tables dropped successfully.\n"
     ]
    }
   ],
   "source": [
    "import snowflake.connector\n",
    "import os\n",
    "from dotenv import load_dotenv\n",
    "\n",
    "load_dotenv()\n",
    "\n",
    "\n",
    "SNOWFLAKE_DATABASE = os.getenv('SNOWFLAKE_DATABASE')\n",
    "SNOWFLAKE_PASSWORD = os.getenv('SNOWFLAKE_PASSWORD')\n",
    "SNOWFLAKE_USERNAME = os.getenv('SNOWFLAKE_USERNAME')\n",
    "SNOWFLAKE_ACCOUNT = os.getenv('SNOWFLAKE_ACCOUNT')\n",
    "SNOWFLAKE_WAREHOUSE = os.getenv('SNOWFLAKE_WAREHOUSE')\n",
    "SNOWFLAKE_ROLE = os.getenv('SNOWFLAKE_ROLE')\n",
    "\n",
    "\n",
    "# Establish connection to Snowflake\n",
    "conn = snowflake.connector.connect(\n",
    "\n",
    "    user=SNOWFLAKE_USERNAME,\n",
    "    password=SNOWFLAKE_PASSWORD,\n",
    "    account=SNOWFLAKE_ACCOUNT,\n",
    "    warehouse=SNOWFLAKE_WAREHOUSE,\n",
    "    database='job_ads',\n",
    "    schema=\"staging\",\n",
    "    role = SNOWFLAKE_ROLE\n",
    ")\n",
    "\n",
    "# Create a cursor object\n",
    "cursor = conn.cursor()\n",
    "\n",
    "try:\n",
    "    # Query to get all tables that start with 'data_field_job_ads2'\n",
    "    cursor.execute(\"\"\"\n",
    "    SELECT table_name \n",
    "    FROM information_schema.tables \n",
    "    WHERE table_name LIKE 'DATA_FIELD_JOB_ADS2%'\n",
    "    \"\"\")\n",
    "\n",
    "    # Fetch all matching table names\n",
    "    tables_to_drop = cursor.fetchall()\n",
    "\n",
    "    # Generate and execute drop statements\n",
    "    for table in tables_to_drop:\n",
    "        table_name = table[0]\n",
    "        drop_statement = f\"DROP TABLE {table_name}\"\n",
    "        print(f\"Executing: {drop_statement}\")\n",
    "        cursor.execute(drop_statement)\n",
    "\n",
    "    print(\"All matching tables dropped successfully.\")\n",
    "\n",
    "except Exception as e:\n",
    "    print(f\"An error occurred: {e}\")\n",
    "\n",
    "finally:\n",
    "    # Close the cursor and connection\n",
    "    cursor.close()\n",
    "    conn.close()\n"
   ]
  },
  {
   "cell_type": "code",
   "execution_count": null,
   "metadata": {},
   "outputs": [],
   "source": []
  }
 ],
 "metadata": {
  "kernelspec": {
   "display_name": ".venv",
   "language": "python",
   "name": "python3"
  },
  "language_info": {
   "codemirror_mode": {
    "name": "ipython",
    "version": 3
   },
   "file_extension": ".py",
   "mimetype": "text/x-python",
   "name": "python",
   "nbconvert_exporter": "python",
   "pygments_lexer": "ipython3",
   "version": "3.11.8"
  }
 },
 "nbformat": 4,
 "nbformat_minor": 2
}
