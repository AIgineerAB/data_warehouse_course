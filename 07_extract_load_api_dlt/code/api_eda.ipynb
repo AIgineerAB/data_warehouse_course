{
 "cells": [
  {
   "cell_type": "markdown",
   "metadata": {},
   "source": [
    "# EDA on jobtech API"
   ]
  },
  {
   "cell_type": "code",
   "execution_count": 1,
   "metadata": {},
   "outputs": [
    {
     "name": "stdout",
     "output_type": "stream",
     "text": [
      "Lärare till resursenheten Pilskolan, Uppsala kommun\n",
      "Lärare i svenska och engelska till Palmbladsskolan, Uppsala kommun\n",
      "Lärare i svenska och SO till Björkvallsskolan (vikariat), Uppsala kommun\n",
      "Lärare i Svenska, STEAM Education holding AB\n",
      "Lärare i Svenska, STEAM Education holding AB\n",
      "Lärare i ryska till Försvarets tolkskola, Försvarsmakten\n",
      "Lärare i Idrott och hälsa, Statens Institutionsstyrelse\n",
      "Lärare fritidshem till Årstaskolan , Uppsala kommun\n",
      "Lärare i engelska, Lawrence Gelmon AB\n",
      "Lärare i Svenska, STEAM Education holding AB\n",
      "Lärare i Svenska, STEAM Education holding AB\n",
      "Lärare i Svenska, STEAM Education holding AB\n",
      "JENSEN grundskola Kåbo F-3 söker engagerad lärare i fritidshem, Jensen Education AB\n",
      "Lärare i årskurs 5 till Lindbackens skola, Uppsala kommun\n",
      "Förskolelärare/lärare till Östra Stenhagen anpassad grundskola, Uppsala kommun\n",
      "Lärare spanska, Raoul Wallenbergskolorna AB\n",
      "Jobba som lärare på Sveriges bästa och mest personliga bemanningsföretag!, PersonalExpressen AB\n",
      "Jobba som lärare på Sveriges bästa och mest personliga bemanningsföretag!, PersonalExpressen AB\n",
      "Jobba som lärare på Sveriges bästa och mest personliga bemanningsföretag!, PersonalExpressen AB\n",
      "Jobba som lärare på Sveriges bästa och mest personliga bemanningsföretag!, PersonalExpressen AB\n",
      "Förskollärare och lärare till olika skolformer, Clockwork Bemanning & Rekrytering AB\n",
      "Jobba som lärare på Sveriges bästa och mest personliga bemanningsföretag!, PersonalExpressen AB\n",
      "Jobba som lärare på Sveriges bästa och mest personliga bemanningsföretag!, PersonalExpressen AB\n",
      "Jobba som lärare på Sveriges bästa och mest personliga bemanningsföretag!, PersonalExpressen AB\n",
      "Jobba som lärare på Sveriges bästa och mest personliga bemanningsföretag!, PersonalExpressen AB\n",
      "Lärarassistent 50-100%, Amerikanska Gymnasiet i Sverige AB\n",
      "Yrkesgymnasiet i Uppsala söker en frisörlärare, Thorengruppen AB\n",
      "Studie och yrkesvägledare till Yrkesgymnasiet, Thorengruppen AB\n",
      "Fiollärare sökes till Studiefrämjandets Kulturskola, Studiefrämjandet Uppsala Västmanland\n",
      "Pianopedagoger sökes till Studiefrämjandets Kulturskola, Studiefrämjandet Uppsala Västmanland\n"
     ]
    }
   ],
   "source": [
    "import requests\n",
    "import json\n",
    "\n",
    "url = 'https://jobsearch.api.jobtechdev.se'\n",
    "url_for_search = f\"{url}/search\"\n",
    "\n",
    "\n",
    "def _get_ads(params):\n",
    "    headers = {'accept': 'application/json'}\n",
    "    response = requests.get(url_for_search, headers=headers, params=params)\n",
    "    response.raise_for_status()  # check for http errors\n",
    "    return json.loads(response.content.decode('utf8'))\n",
    "\n",
    "\n",
    "def example_search_return_number_of_hits(query):\n",
    "    # limit: 0 means no ads, just a value of how many ads were found.\n",
    "    search_params = {'q': query, 'limit': 0}\n",
    "    json_response = _get_ads(search_params)\n",
    "    number_of_hits = json_response['total']['value']\n",
    "    print(f\"\\nNumber of hits = {number_of_hits}\")\n",
    "\n",
    "\n",
    "def example_search_loop_through_hits(query):\n",
    "    # limit = 100 is the max number of hits that can be returned.\n",
    "    # If there are more (which you find with ['total']['value'] in the json response)\n",
    "    # you have to use offset and multiple requests to get all ads.\n",
    "    search_params = {'q': query, 'limit': 100}\n",
    "    json_response = _get_ads(search_params)\n",
    "    hits = json_response['hits']\n",
    "    for hit in hits:\n",
    "        print(f\"{hit['headline']}, {hit['employer']['name']}\")\n",
    "\n",
    "\n",
    "query = 'lärare uppsala'\n",
    "example_search_loop_through_hits(query)\n",
    "\n"
   ]
  },
  {
   "cell_type": "code",
   "execution_count": 2,
   "metadata": {},
   "outputs": [
    {
     "name": "stdout",
     "output_type": "stream",
     "text": [
      "\n",
      "Number of hits = 30\n"
     ]
    }
   ],
   "source": [
    "example_search_return_number_of_hits(query)"
   ]
  },
  {
   "cell_type": "code",
   "execution_count": 13,
   "metadata": {},
   "outputs": [],
   "source": [
    "search_params = {'q': query, 'limit': 100}\n",
    "json_response = _get_ads(search_params)\n",
    "# json_response"
   ]
  },
  {
   "cell_type": "code",
   "execution_count": 14,
   "metadata": {},
   "outputs": [
    {
     "data": {
      "text/plain": [
       "dict_keys(['total', 'positions', 'query_time_in_millis', 'result_time_in_millis', 'stats', 'freetext_concepts', 'hits'])"
      ]
     },
     "execution_count": 14,
     "metadata": {},
     "output_type": "execute_result"
    }
   ],
   "source": [
    "json_response.keys()"
   ]
  },
  {
   "cell_type": "code",
   "execution_count": 16,
   "metadata": {},
   "outputs": [
    {
     "data": {
      "text/plain": [
       "30"
      ]
     },
     "execution_count": 16,
     "metadata": {},
     "output_type": "execute_result"
    }
   ],
   "source": [
    "len(json_response[\"hits\"])"
   ]
  },
  {
   "cell_type": "code",
   "execution_count": 19,
   "metadata": {},
   "outputs": [
    {
     "data": {
      "text/plain": [
       "dict_keys(['relevance', 'id', 'external_id', 'original_id', 'label', 'webpage_url', 'logo_url', 'headline', 'application_deadline', 'number_of_vacancies', 'description', 'employment_type', 'salary_type', 'salary_description', 'duration', 'working_hours_type', 'scope_of_work', 'access', 'employer', 'application_details', 'experience_required', 'access_to_own_car', 'driving_license_required', 'driving_license', 'occupation', 'occupation_group', 'occupation_field', 'workplace_address', 'must_have', 'nice_to_have', 'application_contacts', 'publication_date', 'last_publication_date', 'removed', 'removed_date', 'source_type', 'timestamp'])"
      ]
     },
     "execution_count": 19,
     "metadata": {},
     "output_type": "execute_result"
    }
   ],
   "source": [
    "json_response[\"hits\"][1].keys()"
   ]
  },
  {
   "cell_type": "code",
   "execution_count": 20,
   "metadata": {},
   "outputs": [
    {
     "data": {
      "text/plain": [
       "'Lärare i svenska och engelska till Palmbladsskolan'"
      ]
     },
     "execution_count": 20,
     "metadata": {},
     "output_type": "execute_result"
    }
   ],
   "source": [
    "json_response[\"hits\"][1][\"headline\"]"
   ]
  },
  {
   "cell_type": "code",
   "execution_count": 22,
   "metadata": {},
   "outputs": [],
   "source": [
    "json_response = _get_ads({\"q\": \"data engineer\", \"limit\": 100})\n",
    "# json_response"
   ]
  },
  {
   "cell_type": "code",
   "execution_count": 25,
   "metadata": {},
   "outputs": [
    {
     "data": {
      "text/plain": [
       "('Site Reliability Engineer - Databases & Data Streaming', 'Tink AB')"
      ]
     },
     "execution_count": 25,
     "metadata": {},
     "output_type": "execute_result"
    }
   ],
   "source": [
    "json_response[\"hits\"][-1][\"headline\"], json_response[\"hits\"][-1][\"employer\"][\"name\"]"
   ]
  },
  {
   "cell_type": "code",
   "execution_count": null,
   "metadata": {},
   "outputs": [],
   "source": []
  }
 ],
 "metadata": {
  "kernelspec": {
   "display_name": ".venv",
   "language": "python",
   "name": "python3"
  },
  "language_info": {
   "codemirror_mode": {
    "name": "ipython",
    "version": 3
   },
   "file_extension": ".py",
   "mimetype": "text/x-python",
   "name": "python",
   "nbconvert_exporter": "python",
   "pygments_lexer": "ipython3",
   "version": "3.11.8"
  }
 },
 "nbformat": 4,
 "nbformat_minor": 2
}
